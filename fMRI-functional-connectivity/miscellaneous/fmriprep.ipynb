{
 "cells": [
  {
   "cell_type": "markdown",
   "metadata": {},
   "source": [
    "## Preprocessing of all the japs"
   ]
  },
  {
   "cell_type": "code",
   "execution_count": 8,
   "metadata": {},
   "outputs": [],
   "source": [
    "import os\n",
    "import os.path as op\n",
    "\n",
    "def mkdir_no_exist(path):\n",
    "    if not op.isdir(path):\n",
    "        os.makedirs(path)\n",
    "\n",
    "dataset_id = 'ds003720'\n",
    "subject = '001' \n",
    "\n",
    "# Download one subject's data from each dataset\n",
    "sample_path = \"dataset\"\n",
    "mkdir_no_exist(sample_path)\n",
    "bids_root = op.join(os.path.abspath(\"\"),sample_path, dataset_id)\n",
    "deriv_root = op.join(bids_root, 'derivatives')\n",
    "preproc_root = op.join(bids_root, 'derivatives','preprocessed_data')\n",
    "\n",
    "func_path = op.join(bids_root, 'sub-001', 'func')\n",
    "anat_path = op.join(bids_root, 'sub-001', 'anat')\n",
    "mkdir_no_exist(op.join(bids_root, 'sub-001'))\n",
    "mkdir_no_exist(func_path)\n",
    "mkdir_no_exist(anat_path)\n",
    "\n",
    "mkdir_no_exist(op.join(bids_root, 'derivatives'))\n",
    "preproc_root = op.join(bids_root, 'derivatives','preprocessed_data')\n",
    "mkdir_no_exist(preproc_root)\n",
    "mkdir_no_exist(op.join(preproc_root, 'sub-001'))\n",
    "mkdir_no_exist(op.join(preproc_root, 'sub-001', 'anat'))\n",
    "mkdir_no_exist(op.join(preproc_root, 'sub-001', 'func'))\n",
    "mkdir_no_exist(op.join(preproc_root, 'sub-001', 'fmap'))"
   ]
  },
  {
   "cell_type": "code",
   "execution_count": 10,
   "metadata": {},
   "outputs": [
    {
     "name": "stdout",
     "output_type": "stream",
     "text": [
      "\n",
      "👋 Hello! This is openneuro-py 2023.1.0. Great to see you! 🤗\n",
      "\n",
      "   👉 Please report problems 🤯 and bugs 🪲 at\n",
      "      https://github.com/hoechenberger/openneuro-py/issues\n",
      "\n",
      "🌍 Preparing to download ds003720 …\n",
      "Cannot determine local revision of the dataset, and the target directory is not empty. If the download fails, you may want to try again with a fresh (empty) target directory.\n",
      "📁 Traversing directories for ds003720 : 0 entities [00:00, ? entities/s]\n",
      "📥 Retrieving up to 7 files (5 concurrent downloads). \n",
      "dataset_description.json: 0.00B [00:00, ?B/s]\n",
      "README: 0.00B [00:00, ?B/s]\n",
      "CHANGES: 0.00B [00:00, ?B/s]\n",
      "sub-001_task-Training_run-01_bold.json:   0%|          | 0.00/2.05k [00:00<?, ?B/s]\n",
      "sub-001_T1w.nii:   0%|          | 0.00/52.0M [00:00<?, ?B/s]\n",
      "sub-001_task-Training_run-01_bold.nii:   0%|          | 0.00/490M [00:00<?, ?B/s]\n",
      "sub-001_T1w.json:   0%|          | 0.00/1.64k [00:00<?, ?B/s]\n",
      "✅ Finished downloading ds003720.\n",
      " \n",
      "🧠 Please enjoy your brains.\n",
      " \n"
     ]
    },
    {
     "data": {
      "text/plain": [
       "0"
      ]
     },
     "execution_count": 10,
     "metadata": {},
     "output_type": "execute_result"
    }
   ],
   "source": [
    "os.system(\"\"\"openneuro-py download --dataset {} --include sub-{}/anat/* \n",
    "          --include sub-{}/func/sub-{}_task-Training_run-01_bold.nii \n",
    "          --include sub-{}/func/sub-{}_task-Training_run-01_bold.json \n",
    "          --target_dir {}\"\"\".format(dataset_id, subject, subject, subject, subject, subject, bids_root).replace(\"\\n\", \" \"))"
   ]
  },
  {
   "cell_type": "code",
   "execution_count": 11,
   "metadata": {},
   "outputs": [
    {
     "data": {
      "text/plain": [
       "('/Users/leger/Desktop/@/python/nssp/NSSP_P2/dataset/ds003720',\n",
       " '/Users/leger/Desktop/@/python/nssp/NSSP_P2/dataset/ds003720/derivatives')"
      ]
     },
     "execution_count": 11,
     "metadata": {},
     "output_type": "execute_result"
    }
   ],
   "source": [
    "bids_root, deriv_root"
   ]
  },
  {
   "cell_type": "code",
   "execution_count": 13,
   "metadata": {},
   "outputs": [
    {
     "name": "stdout",
     "output_type": "stream",
     "text": [
      "231105-15:19:00,953 cli WARNING:\n",
      "\t Telemetry disabled because sentry_sdk is not installed.\n",
      "bids-validator does not appear to be installed\n",
      "231105-15:19:03,992 nipype.workflow IMPORTANT:\n",
      "\t Running fMRIPrep version 23.1.4\n",
      "\n",
      "         License NOTICE ##################################################\n",
      "         fMRIPrep 23.1.4\n",
      "         Copyright 2023 The NiPreps Developers.\n",
      "         \n",
      "         This product includes software developed by\n",
      "         the NiPreps Community (https://nipreps.org/).\n",
      "         \n",
      "         Portions of this software were developed at the Department of\n",
      "         Psychology at Stanford University, Stanford, CA, US.\n",
      "         \n",
      "         This software is also distributed as a Docker container image.\n",
      "         The bootstrapping file for the image (\"Dockerfile\") is licensed\n",
      "         under the MIT License.\n",
      "         \n",
      "         This software may be distributed through an add-on package called\n",
      "         \"Docker Wrapper\" that is under the BSD 3-clause License.\n",
      "         #################################################################\n",
      "231105-15:19:03,997 nipype.workflow IMPORTANT:\n",
      "\t Building fMRIPrep's workflow:\n",
      "           * BIDS dataset path: /Users/leger/Desktop/@/python/nssp/NSSP_P2/dataset/ds003720.\n",
      "           * Participant list: ['001'].\n",
      "           * Run identifier: 20231105-151900_0238309b-e570-409d-882e-224cda8e7519.\n",
      "           * Output spaces: MNI152NLin2009cAsym:res-native.\n",
      "           * Pre-run FreeSurfer's SUBJECTS_DIR: /Users/leger/Desktop/@/python/nssp/NSSP_P2/dataset/ds003720/derivatives/sourcedata/freesurfer.\n",
      "Process Process-2:\n",
      "Traceback (most recent call last):\n",
      "  File \"/Users/leger/fsl/lib/python3.11/site-packages/nipype/interfaces/base/traits_extension.py\", line 129, in validate\n",
      "    value = Path(value)  # Use pathlib's validation\n",
      "            ^^^^^^^^^^^\n",
      "  File \"/Users/leger/fsl/lib/python3.11/pathlib.py\", line 871, in __new__\n",
      "    self = cls._from_parts(args)\n",
      "           ^^^^^^^^^^^^^^^^^^^^^\n",
      "  File \"/Users/leger/fsl/lib/python3.11/pathlib.py\", line 509, in _from_parts\n",
      "    drv, root, parts = self._parse_args(args)\n",
      "                       ^^^^^^^^^^^^^^^^^^^^^^\n",
      "  File \"/Users/leger/fsl/lib/python3.11/pathlib.py\", line 493, in _parse_args\n",
      "    a = os.fspath(a)\n",
      "        ^^^^^^^^^^^^\n",
      "TypeError: expected str, bytes or os.PathLike object, not NoneType\n",
      "\n",
      "During handling of the above exception, another exception occurred:\n",
      "\n",
      "Traceback (most recent call last):\n",
      "  File \"/Users/leger/fsl/lib/python3.11/multiprocessing/process.py\", line 314, in _bootstrap\n",
      "    self.run()\n",
      "  File \"/Users/leger/fsl/lib/python3.11/multiprocessing/process.py\", line 108, in run\n",
      "    self._target(*self._args, **self._kwargs)\n",
      "  File \"/Users/leger/fsl/lib/python3.11/site-packages/fmriprep/cli/workflow.py\", line 115, in build_workflow\n",
      "    retval[\"workflow\"] = init_fmriprep_wf()\n",
      "                         ^^^^^^^^^^^^^^^^^^\n",
      "  File \"/Users/leger/fsl/lib/python3.11/site-packages/fmriprep/workflows/base.py\", line 80, in init_fmriprep_wf\n",
      "    BIDSFreeSurferDir(\n",
      "  File \"/Users/leger/fsl/lib/python3.11/site-packages/nipype/interfaces/base/core.py\", line 563, in __init__\n",
      "    super(SimpleInterface, self).__init__(\n",
      "  File \"/Users/leger/fsl/lib/python3.11/site-packages/nipype/interfaces/base/core.py\", line 202, in __init__\n",
      "    self.inputs.trait_set(**inputs)\n",
      "  File \"/Users/leger/fsl/lib/python3.11/site-packages/traits/has_traits.py\", line 1520, in trait_set\n",
      "    setattr(self, name, value)\n",
      "  File \"/Users/leger/fsl/lib/python3.11/site-packages/nipype/interfaces/base/traits_extension.py\", line 131, in validate\n",
      "    self.error(objekt, name, str(value))\n",
      "  File \"/Users/leger/fsl/lib/python3.11/site-packages/traits/base_trait_handler.py\", line 74, in error\n",
      "    raise TraitError(\n",
      "traits.trait_errors.TraitError: The 'freesurfer_home' trait of a _BIDSFreeSurferDirInputSpec instance must be a pathlike object or string representing an existing directory, but a value of 'None' <class 'str'> was specified.\n"
     ]
    }
   ],
   "source": [
    "!fmriprep /Users/leger/Desktop/@/python/nssp/NSSP_P2/dataset/ds003720 /Users/leger/Desktop/@/python/nssp/NSSP_P2/dataset/ds003720/derivatives participant --participant-label 001 "
   ]
  }
 ],
 "metadata": {
  "kernelspec": {
   "display_name": "base",
   "language": "python",
   "name": "python3"
  },
  "language_info": {
   "codemirror_mode": {
    "name": "ipython",
    "version": 3
   },
   "file_extension": ".py",
   "mimetype": "text/x-python",
   "name": "python",
   "nbconvert_exporter": "python",
   "pygments_lexer": "ipython3",
   "version": "3.11.6"
  }
 },
 "nbformat": 4,
 "nbformat_minor": 2
}
